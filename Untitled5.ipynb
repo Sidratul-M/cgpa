{
  "nbformat": 4,
  "nbformat_minor": 0,
  "metadata": {
    "colab": {
      "provenance": [],
      "authorship_tag": "ABX9TyPIff5vzdSEGXk6XBKA74gT",
      "include_colab_link": true
    },
    "kernelspec": {
      "name": "python3",
      "display_name": "Python 3"
    },
    "language_info": {
      "name": "python"
    }
  },
  "cells": [
    {
      "cell_type": "markdown",
      "metadata": {
        "id": "view-in-github",
        "colab_type": "text"
      },
      "source": [
        "<a href=\"https://colab.research.google.com/github/Sidratul-M/cgpa/blob/main/Untitled5.ipynb\" target=\"_parent\"><img src=\"https://colab.research.google.com/assets/colab-badge.svg\" alt=\"Open In Colab\"/></a>"
      ]
    },
    {
      "cell_type": "code",
      "execution_count": null,
      "metadata": {
        "colab": {
          "base_uri": "https://localhost:8080/"
        },
        "id": "s2xHH4gBuWT_",
        "outputId": "1edbe527-d8d7-47ac-f287-e84b9b3f1112"
      },
      "outputs": [
        {
          "output_type": "stream",
          "name": "stdout",
          "text": [
            "total credit: 105\n",
            "3.63\n"
          ]
        }
      ],
      "source": [
        "#cgpa counter\n",
        "grades=[[4,3.3,4],[3.3,3.7,3.3,3.7],[3.3,3.3,3.3,3.7],[4,3.3,3.7],[3.7,4,3.7],[3.3,3.7,4],[4,4,3.3],[3,3.3,3.7,4],[4,4,3.3,3.3],[4,4,3.7,3.3],[],[]]\n",
        "total=0\n",
        "n=0\n",
        "for i in range(len(grades)):\n",
        "   for j in range(len(grades[i])):\n",
        "     total+=grades[i][j]\n",
        "     n+=1\n",
        "print(f'total credit: {n*3}')\n",
        "cgpa=round(total/n,2)\n",
        "print(cgpa)\n"
      ]
    }
  ]
}